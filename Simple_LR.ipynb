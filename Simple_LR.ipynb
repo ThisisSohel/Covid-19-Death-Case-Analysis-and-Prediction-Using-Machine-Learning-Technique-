{
 "cells": [
  {
   "cell_type": "code",
   "execution_count": 1,
   "id": "11369692",
   "metadata": {},
   "outputs": [],
   "source": [
    "import pandas as pd\n",
    "import numpy as np\n",
    "from sklearn.linear_model import LinearRegression\n",
    "from sklearn.model_selection import train_test_split\n",
    "import matplotlib.pyplot as plt\n",
    "from sklearn import preprocessing\n"
   ]
  },
  {
   "cell_type": "code",
   "execution_count": 2,
   "id": "f6493099",
   "metadata": {},
   "outputs": [
    {
     "data": {
      "text/html": [
       "<div>\n",
       "<style scoped>\n",
       "    .dataframe tbody tr th:only-of-type {\n",
       "        vertical-align: middle;\n",
       "    }\n",
       "\n",
       "    .dataframe tbody tr th {\n",
       "        vertical-align: top;\n",
       "    }\n",
       "\n",
       "    .dataframe thead th {\n",
       "        text-align: right;\n",
       "    }\n",
       "</style>\n",
       "<table border=\"1\" class=\"dataframe\">\n",
       "  <thead>\n",
       "    <tr style=\"text-align: right;\">\n",
       "      <th></th>\n",
       "      <th>Day</th>\n",
       "      <th>Lab Test</th>\n",
       "      <th>Confirmed case</th>\n",
       "      <th>Death Case</th>\n",
       "    </tr>\n",
       "  </thead>\n",
       "  <tbody>\n",
       "    <tr>\n",
       "      <th>0</th>\n",
       "      <td>0</td>\n",
       "      <td>434</td>\n",
       "      <td>9</td>\n",
       "      <td>2</td>\n",
       "    </tr>\n",
       "    <tr>\n",
       "      <th>1</th>\n",
       "      <td>1</td>\n",
       "      <td>367</td>\n",
       "      <td>18</td>\n",
       "      <td>1</td>\n",
       "    </tr>\n",
       "    <tr>\n",
       "      <th>2</th>\n",
       "      <td>2</td>\n",
       "      <td>468</td>\n",
       "      <td>35</td>\n",
       "      <td>3</td>\n",
       "    </tr>\n",
       "    <tr>\n",
       "      <th>3</th>\n",
       "      <td>3</td>\n",
       "      <td>679</td>\n",
       "      <td>41</td>\n",
       "      <td>5</td>\n",
       "    </tr>\n",
       "    <tr>\n",
       "      <th>4</th>\n",
       "      <td>4</td>\n",
       "      <td>981</td>\n",
       "      <td>54</td>\n",
       "      <td>3</td>\n",
       "    </tr>\n",
       "    <tr>\n",
       "      <th>...</th>\n",
       "      <td>...</td>\n",
       "      <td>...</td>\n",
       "      <td>...</td>\n",
       "      <td>...</td>\n",
       "    </tr>\n",
       "    <tr>\n",
       "      <th>95</th>\n",
       "      <td>96</td>\n",
       "      <td>15672</td>\n",
       "      <td>3489</td>\n",
       "      <td>46</td>\n",
       "    </tr>\n",
       "    <tr>\n",
       "      <th>96</th>\n",
       "      <td>97</td>\n",
       "      <td>15632</td>\n",
       "      <td>3360</td>\n",
       "      <td>41</td>\n",
       "    </tr>\n",
       "    <tr>\n",
       "      <th>97</th>\n",
       "      <td>98</td>\n",
       "      <td>13488</td>\n",
       "      <td>2949</td>\n",
       "      <td>37</td>\n",
       "    </tr>\n",
       "    <tr>\n",
       "      <th>98</th>\n",
       "      <td>99</td>\n",
       "      <td>11193</td>\n",
       "      <td>2686</td>\n",
       "      <td>30</td>\n",
       "    </tr>\n",
       "    <tr>\n",
       "      <th>99</th>\n",
       "      <td>100</td>\n",
       "      <td>11059</td>\n",
       "      <td>2666</td>\n",
       "      <td>47</td>\n",
       "    </tr>\n",
       "  </tbody>\n",
       "</table>\n",
       "<p>100 rows × 4 columns</p>\n",
       "</div>"
      ],
      "text/plain": [
       "    Day  Lab Test  Confirmed case  Death Case\n",
       "0     0       434               9           2\n",
       "1     1       367              18           1\n",
       "2     2       468              35           3\n",
       "3     3       679              41           5\n",
       "4     4       981              54           3\n",
       "..  ...       ...             ...         ...\n",
       "95   96     15672            3489          46\n",
       "96   97     15632            3360          41\n",
       "97   98     13488            2949          37\n",
       "98   99     11193            2686          30\n",
       "99  100     11059            2666          47\n",
       "\n",
       "[100 rows x 4 columns]"
      ]
     },
     "execution_count": 2,
     "metadata": {},
     "output_type": "execute_result"
    }
   ],
   "source": [
    "data = pd.read_csv(\"covid_dataset.csv\")\n",
    "\n",
    "# label_encoder object using\n",
    "label_encoder = preprocessing.LabelEncoder()\n",
    "data['Day']= label_encoder.fit_transform(data['Day']) \n",
    "data.head(100)"
   ]
  },
  {
   "cell_type": "code",
   "execution_count": 3,
   "id": "c96b8690",
   "metadata": {},
   "outputs": [
    {
     "data": {
      "text/plain": [
       "(626, 4)"
      ]
     },
     "execution_count": 3,
     "metadata": {},
     "output_type": "execute_result"
    }
   ],
   "source": [
    "data.shape"
   ]
  },
  {
   "cell_type": "code",
   "execution_count": 4,
   "id": "0f096d30",
   "metadata": {},
   "outputs": [
    {
     "data": {
      "image/png": "[encoded data removed]",
      "text/plain": [
       "<Figure size 432x288 with 1 Axes>"
      ]
     },
     "metadata": {
      "needs_background": "light"
     },
     "output_type": "display_data"
    }
   ],
   "source": [
    "#Make prediction for Confirmed Case and Date case\n",
    "\n",
    "data.plot(kind= 'scatter', x='Confirmed case', y='Death Case')\n",
    "plt.show()"
   ]
  },
  {
   "cell_type": "code",
   "execution_count": 5,
   "id": "9d5fd605",
   "metadata": {
    "scrolled": true
   },
   "outputs": [],
   "source": [
    "#test train Split\n",
    "\n",
    "x_train, x_test, y_train, y_test = train_test_split(data['Confirmed case'], data['Death Case'], test_size=0.2)"
   ]
  },
  {
   "cell_type": "code",
   "execution_count": 6,
   "id": "a9a3b23a",
   "metadata": {},
   "outputs": [
    {
     "data": {
      "image/png": "[encoded data removed]",
      "text/plain": [
       "<Figure size 432x288 with 1 Axes>"
      ]
     },
     "metadata": {
      "needs_background": "light"
     },
     "output_type": "display_data"
    }
   ],
   "source": [
    "# test train split for vidualisation\n",
    "plt.scatter(x_train, y_train, label = 'Training Data', color = 'r', alpha = .7)\n",
    "plt.scatter(x_test, y_test, label = 'Testing Data', color = 'g', alpha = .7)\n",
    "plt.legend()\n",
    "plt.title('Train_Test Spliting')\n",
    "plt.show()"
   ]
  },
  {
   "cell_type": "code",
   "execution_count": 7,
   "id": "eb1ff225",
   "metadata": {},
   "outputs": [
    {
     "data": {
      "text/plain": [
       "LinearRegression()"
      ]
     },
     "execution_count": 7,
     "metadata": {},
     "output_type": "execute_result"
    }
   ],
   "source": [
    "L_reg = LinearRegression()\n",
    "L_reg.fit(x_train.values.reshape(-1,1), y_train.values)"
   ]
  },
  {
   "cell_type": "code",
   "execution_count": 8,
   "id": "8dca437d",
   "metadata": {},
   "outputs": [
    {
     "data": {
      "image/png": "[encoded data removed]",
      "text/plain": [
       "<Figure size 432x288 with 1 Axes>"
      ]
     },
     "metadata": {
      "needs_background": "light"
     },
     "output_type": "display_data"
    }
   ],
   "source": [
    "predict = L_reg.predict(x_test.values.reshape(-1,1))\n",
    "plt.plot(x_test, predict, label = 'Linear Regression', color = 'b')\n",
    "plt.scatter(x_test, y_test, label = 'The test Data', color = 'g', alpha = .7)\n",
    "plt.legend()\n",
    "plt.show()"
   ]
  },
  {
   "cell_type": "code",
   "execution_count": 9,
   "id": "d244d13d",
   "metadata": {},
   "outputs": [
    {
     "data": {
      "text/plain": [
       "139.0347925852846"
      ]
     },
     "execution_count": 9,
     "metadata": {},
     "output_type": "execute_result"
    }
   ],
   "source": [
    "L_reg.predict([[8000]])[0]\n"
   ]
  },
  {
   "cell_type": "code",
   "execution_count": 10,
   "id": "294fedea",
   "metadata": {},
   "outputs": [
    {
     "data": {
      "text/plain": [
       "0.8481877411871288"
      ]
     },
     "execution_count": 10,
     "metadata": {},
     "output_type": "execute_result"
    }
   ],
   "source": [
    "L_reg.score(x_test.values.reshape(-1,1), y_test.values)"
   ]
  },
  {
   "cell_type": "code",
   "execution_count": 11,
   "id": "70d3786d",
   "metadata": {},
   "outputs": [
    {
     "data": {
      "text/html": [
       "<div>\n",
       "<style scoped>\n",
       "    .dataframe tbody tr th:only-of-type {\n",
       "        vertical-align: middle;\n",
       "    }\n",
       "\n",
       "    .dataframe tbody tr th {\n",
       "        vertical-align: top;\n",
       "    }\n",
       "\n",
       "    .dataframe thead th {\n",
       "        text-align: right;\n",
       "    }\n",
       "</style>\n",
       "<table border=\"1\" class=\"dataframe\">\n",
       "  <thead>\n",
       "    <tr style=\"text-align: right;\">\n",
       "      <th></th>\n",
       "      <th>Actual Data</th>\n",
       "      <th>Predicted Data</th>\n",
       "      <th>Differenece Between Two Data</th>\n",
       "    </tr>\n",
       "  </thead>\n",
       "  <tbody>\n",
       "    <tr>\n",
       "      <th>530</th>\n",
       "      <td>51</td>\n",
       "      <td>33.454174</td>\n",
       "      <td>17.545826</td>\n",
       "    </tr>\n",
       "    <tr>\n",
       "      <th>45</th>\n",
       "      <td>21</td>\n",
       "      <td>22.944276</td>\n",
       "      <td>-1.944276</td>\n",
       "    </tr>\n",
       "    <tr>\n",
       "      <th>326</th>\n",
       "      <td>5</td>\n",
       "      <td>8.787735</td>\n",
       "      <td>-3.787735</td>\n",
       "    </tr>\n",
       "    <tr>\n",
       "      <th>214</th>\n",
       "      <td>21</td>\n",
       "      <td>27.519780</td>\n",
       "      <td>-6.519780</td>\n",
       "    </tr>\n",
       "    <tr>\n",
       "      <th>349</th>\n",
       "      <td>18</td>\n",
       "      <td>34.090617</td>\n",
       "      <td>-16.090617</td>\n",
       "    </tr>\n",
       "    <tr>\n",
       "      <th>436</th>\n",
       "      <td>54</td>\n",
       "      <td>53.889133</td>\n",
       "      <td>0.110867</td>\n",
       "    </tr>\n",
       "    <tr>\n",
       "      <th>224</th>\n",
       "      <td>14</td>\n",
       "      <td>27.760596</td>\n",
       "      <td>-13.760596</td>\n",
       "    </tr>\n",
       "    <tr>\n",
       "      <th>49</th>\n",
       "      <td>20</td>\n",
       "      <td>33.643387</td>\n",
       "      <td>-13.643387</td>\n",
       "    </tr>\n",
       "    <tr>\n",
       "      <th>413</th>\n",
       "      <td>38</td>\n",
       "      <td>19.108421</td>\n",
       "      <td>18.891579</td>\n",
       "    </tr>\n",
       "    <tr>\n",
       "      <th>107</th>\n",
       "      <td>50</td>\n",
       "      <td>51.790593</td>\n",
       "      <td>-1.790593</td>\n",
       "    </tr>\n",
       "  </tbody>\n",
       "</table>\n",
       "</div>"
      ],
      "text/plain": [
       "     Actual Data  Predicted Data  Differenece Between Two Data\n",
       "530           51       33.454174                     17.545826\n",
       "45            21       22.944276                     -1.944276\n",
       "326            5        8.787735                     -3.787735\n",
       "214           21       27.519780                     -6.519780\n",
       "349           18       34.090617                    -16.090617\n",
       "436           54       53.889133                      0.110867\n",
       "224           14       27.760596                    -13.760596\n",
       "49            20       33.643387                    -13.643387\n",
       "413           38       19.108421                     18.891579\n",
       "107           50       51.790593                     -1.790593"
      ]
     },
     "execution_count": 11,
     "metadata": {},
     "output_type": "execute_result"
    }
   ],
   "source": [
    "pred_y = pd.DataFrame({'Actual Data': y_test, 'Predicted Data': predict, 'Differenece Between Two Data': y_test - predict})\n",
    "pred_y [0:10]"
   ]
  },
  {
   "cell_type": "code",
   "execution_count": null,
   "id": "f7a6d69f",
   "metadata": {},
   "outputs": [],
   "source": []
  }
 ],
 "metadata": {
  "kernelspec": {
   "display_name": "Python 3",
   "language": "python",
   "name": "python3"
  },
  "language_info": {
   "codemirror_mode": {
    "name": "ipython",
    "version": 3
   },
   "file_extension": ".py",
   "mimetype": "text/x-python",
   "name": "python",
   "nbconvert_exporter": "python",
   "pygments_lexer": "ipython3",
   "version": "3.8.8"
  }
 },
 "nbformat": 4,
 "nbformat_minor": 5
}
