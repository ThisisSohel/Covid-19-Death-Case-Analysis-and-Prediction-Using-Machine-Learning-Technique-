{
 "cells": [
  {
   "cell_type": "code",
   "execution_count": 1,
   "id": "041f0c65",
   "metadata": {},
   "outputs": [],
   "source": [
    "import pandas as pd\n",
    "import numpy as np\n",
    "import sklearn\n",
    "import matplotlib.pyplot as plt\n",
    "from sklearn.model_selection import train_test_split\n",
    "from sklearn import preprocessing\n"
   ]
  },
  {
   "cell_type": "code",
   "execution_count": 2,
   "id": "cc435ef4",
   "metadata": {},
   "outputs": [],
   "source": [
    "covidFirstDose = pd.read_csv(\"covid_first_dose.csv\")\n",
    "covidSecondDose = pd.read_csv(\"covid_second_dose.csv\")\n"
   ]
  },
  {
   "cell_type": "code",
   "execution_count": 3,
   "id": "77fed135",
   "metadata": {},
   "outputs": [],
   "source": [
    "x = covidFirstDose[['Day', 'Number of Vaccinations (First Dose)']]\n",
    "m = covidSecondDose[['Day', 'Number of Vaccinations (Second Dose)']]\n",
    "\n"
   ]
  },
  {
   "cell_type": "code",
   "execution_count": 4,
   "id": "38acd14c",
   "metadata": {},
   "outputs": [],
   "source": [
    "a = x.merge(m, on='Day', how='inner')"
   ]
  },
  {
   "cell_type": "code",
   "execution_count": null,
   "id": "94847adc",
   "metadata": {},
   "outputs": [],
   "source": []
  },
  {
   "cell_type": "code",
   "execution_count": 5,
   "id": "e3abd32c",
   "metadata": {},
   "outputs": [],
   "source": [
    "label_encoder = preprocessing.LabelEncoder()\n",
    " \n",
    "a['Day']= label_encoder.fit_transform(a['Day']) "
   ]
  },
  {
   "cell_type": "code",
   "execution_count": 6,
   "id": "c22cc93b",
   "metadata": {},
   "outputs": [],
   "source": [
    "X = a.iloc[:, 0:3]\n",
    "y = a[['Number of Vaccinations (First Dose)', 'Number of Vaccinations (Second Dose)' ]]"
   ]
  },
  {
   "cell_type": "code",
   "execution_count": 7,
   "id": "846015ba",
   "metadata": {},
   "outputs": [
    {
     "data": {
      "text/html": [
       "<div>\n",
       "<style scoped>\n",
       "    .dataframe tbody tr th:only-of-type {\n",
       "        vertical-align: middle;\n",
       "    }\n",
       "\n",
       "    .dataframe tbody tr th {\n",
       "        vertical-align: top;\n",
       "    }\n",
       "\n",
       "    .dataframe thead th {\n",
       "        text-align: right;\n",
       "    }\n",
       "</style>\n",
       "<table border=\"1\" class=\"dataframe\">\n",
       "  <thead>\n",
       "    <tr style=\"text-align: right;\">\n",
       "      <th></th>\n",
       "      <th>Day</th>\n",
       "      <th>Number of Vaccinations (First Dose)</th>\n",
       "      <th>Number of Vaccinations (Second Dose)</th>\n",
       "    </tr>\n",
       "  </thead>\n",
       "  <tbody>\n",
       "    <tr>\n",
       "      <th>0</th>\n",
       "      <td>0</td>\n",
       "      <td>14804</td>\n",
       "      <td>81323</td>\n",
       "    </tr>\n",
       "    <tr>\n",
       "      <th>1</th>\n",
       "      <td>1</td>\n",
       "      <td>19943</td>\n",
       "      <td>136703</td>\n",
       "    </tr>\n",
       "    <tr>\n",
       "      <th>2</th>\n",
       "      <td>2</td>\n",
       "      <td>23657</td>\n",
       "      <td>165691</td>\n",
       "    </tr>\n",
       "    <tr>\n",
       "      <th>3</th>\n",
       "      <td>3</td>\n",
       "      <td>22456</td>\n",
       "      <td>138879</td>\n",
       "    </tr>\n",
       "    <tr>\n",
       "      <th>4</th>\n",
       "      <td>4</td>\n",
       "      <td>26750</td>\n",
       "      <td>210579</td>\n",
       "    </tr>\n",
       "    <tr>\n",
       "      <th>...</th>\n",
       "      <td>...</td>\n",
       "      <td>...</td>\n",
       "      <td>...</td>\n",
       "    </tr>\n",
       "    <tr>\n",
       "      <th>183</th>\n",
       "      <td>183</td>\n",
       "      <td>325250</td>\n",
       "      <td>355796</td>\n",
       "    </tr>\n",
       "    <tr>\n",
       "      <th>184</th>\n",
       "      <td>184</td>\n",
       "      <td>338574</td>\n",
       "      <td>570312</td>\n",
       "    </tr>\n",
       "    <tr>\n",
       "      <th>185</th>\n",
       "      <td>185</td>\n",
       "      <td>367004</td>\n",
       "      <td>565635</td>\n",
       "    </tr>\n",
       "    <tr>\n",
       "      <th>186</th>\n",
       "      <td>186</td>\n",
       "      <td>363539</td>\n",
       "      <td>927256</td>\n",
       "    </tr>\n",
       "    <tr>\n",
       "      <th>187</th>\n",
       "      <td>187</td>\n",
       "      <td>315552</td>\n",
       "      <td>89049</td>\n",
       "    </tr>\n",
       "  </tbody>\n",
       "</table>\n",
       "<p>188 rows × 3 columns</p>\n",
       "</div>"
      ],
      "text/plain": [
       "     Day  Number of Vaccinations (First Dose)  \\\n",
       "0      0                                14804   \n",
       "1      1                                19943   \n",
       "2      2                                23657   \n",
       "3      3                                22456   \n",
       "4      4                                26750   \n",
       "..   ...                                  ...   \n",
       "183  183                               325250   \n",
       "184  184                               338574   \n",
       "185  185                               367004   \n",
       "186  186                               363539   \n",
       "187  187                               315552   \n",
       "\n",
       "     Number of Vaccinations (Second Dose)  \n",
       "0                                   81323  \n",
       "1                                  136703  \n",
       "2                                  165691  \n",
       "3                                  138879  \n",
       "4                                  210579  \n",
       "..                                    ...  \n",
       "183                                355796  \n",
       "184                                570312  \n",
       "185                                565635  \n",
       "186                                927256  \n",
       "187                                 89049  \n",
       "\n",
       "[188 rows x 3 columns]"
      ]
     },
     "execution_count": 7,
     "metadata": {},
     "output_type": "execute_result"
    }
   ],
   "source": [
    "a"
   ]
  },
  {
   "cell_type": "code",
   "execution_count": 8,
   "id": "dce516f0",
   "metadata": {},
   "outputs": [],
   "source": [
    "X_train, X_test, y_train, y_test = train_test_split(X, y, test_size=0.2, random_state=100)"
   ]
  },
  {
   "cell_type": "code",
   "execution_count": 9,
   "id": "9c2eb046",
   "metadata": {},
   "outputs": [
    {
     "data": {
      "text/plain": [
       "array([[2.45857570e+05, 2.69187550e+05],\n",
       "       [2.78187420e+05, 3.27267820e+05],\n",
       "       [3.34394350e+05, 2.57250800e+05],\n",
       "       [3.22790390e+05, 3.26757350e+05],\n",
       "       [4.72924000e+03, 1.43171000e+03],\n",
       "       [3.40642180e+05, 2.56715060e+05],\n",
       "       [1.71354400e+04, 1.45292500e+05],\n",
       "       [4.36780000e+02, 1.24805980e+05],\n",
       "       [2.72113730e+05, 1.47326705e+06],\n",
       "       [3.20452230e+05, 1.69904540e+05],\n",
       "       [1.71793970e+05, 1.96415280e+05],\n",
       "       [3.69532200e+05, 3.26493650e+05],\n",
       "       [3.00593710e+05, 1.86140590e+05],\n",
       "       [7.03012370e+05, 2.77530820e+05],\n",
       "       [5.30814540e+05, 1.32804530e+05],\n",
       "       [3.18742930e+05, 3.20759710e+05],\n",
       "       [1.12060661e+06, 2.93898610e+05],\n",
       "       [2.60677790e+05, 2.12963520e+05],\n",
       "       [8.54556310e+05, 2.25816580e+05],\n",
       "       [2.18474520e+05, 2.49394230e+05],\n",
       "       [2.95524200e+05, 3.16434300e+04],\n",
       "       [6.56586000e+03, 2.31928000e+03],\n",
       "       [1.71446500e+04, 2.04862940e+05],\n",
       "       [2.83457660e+05, 2.25030670e+05],\n",
       "       [1.32422774e+06, 3.11518070e+05],\n",
       "       [4.32635600e+05, 1.52742520e+05],\n",
       "       [3.43423230e+05, 2.02389000e+05],\n",
       "       [4.95020000e+02, 1.87471900e+04],\n",
       "       [4.23435620e+05, 1.70481470e+05],\n",
       "       [4.89681680e+05, 2.80318250e+05],\n",
       "       [3.19722710e+05, 1.72088800e+05],\n",
       "       [1.94768400e+04, 1.41147510e+05],\n",
       "       [1.02167515e+06, 2.89712020e+05],\n",
       "       [3.46321150e+05, 1.60195440e+05],\n",
       "       [9.99991630e+05, 2.91965120e+05],\n",
       "       [9.78141380e+05, 1.85001600e+05],\n",
       "       [1.84342370e+05, 1.75845000e+03],\n",
       "       [7.39096700e+04, 3.43471300e+04]])"
      ]
     },
     "execution_count": 9,
     "metadata": {},
     "output_type": "execute_result"
    }
   ],
   "source": [
    "from sklearn.ensemble import RandomForestRegressor\n",
    "rf = RandomForestRegressor()\n",
    "rf.fit(X_train, y_train)\n",
    "y_pred=rf.predict(X_test)\n",
    "y_pred"
   ]
  },
  {
   "cell_type": "code",
   "execution_count": 10,
   "id": "6b89e4d8",
   "metadata": {},
   "outputs": [
    {
     "data": {
      "text/plain": [
       "array([[331148.23, 350940.29]])"
      ]
     },
     "execution_count": 10,
     "metadata": {},
     "output_type": "execute_result"
    }
   ],
   "source": [
    " rf.predict([[183,325250,355796]])"
   ]
  },
  {
   "cell_type": "code",
   "execution_count": null,
   "id": "c01f0d51",
   "metadata": {},
   "outputs": [],
   "source": []
  }
 ],
 "metadata": {
  "kernelspec": {
   "display_name": "Python 3",
   "language": "python",
   "name": "python3"
  },
  "language_info": {
   "codemirror_mode": {
    "name": "ipython",
    "version": 3
   },
   "file_extension": ".py",
   "mimetype": "text/x-python",
   "name": "python",
   "nbconvert_exporter": "python",
   "pygments_lexer": "ipython3",
   "version": "3.8.8"
  }
 },
 "nbformat": 4,
 "nbformat_minor": 5
}
