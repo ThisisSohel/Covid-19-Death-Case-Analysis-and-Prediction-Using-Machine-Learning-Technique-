{
 "cells": [
  {
   "cell_type": "code",
   "execution_count": 1,
   "id": "1506ab84",
   "metadata": {},
   "outputs": [],
   "source": [
    "import pandas as pd\n",
    "import numpy as np\n",
    "import sklearn\n",
    "import matplotlib.pyplot as plt\n",
    "from sklearn.model_selection import train_test_split\n",
    "\n",
    "from sklearn import preprocessing\n"
   ]
  },
  {
   "cell_type": "code",
   "execution_count": 2,
   "id": "13aff34e",
   "metadata": {},
   "outputs": [],
   "source": [
    "covidFirstDose = pd.read_csv(\"covid_first_dose.csv\")\n",
    "covidSecondDose = pd.read_csv(\"covid_second_dose.csv\")\n",
    "covidData = pd.read_csv(\"covid_dataset.csv\")\n",
    "\n"
   ]
  },
  {
   "cell_type": "code",
   "execution_count": 3,
   "id": "a6ceeeca",
   "metadata": {},
   "outputs": [],
   "source": [
    "x = covidFirstDose[['Day', 'Number of Vaccinations (First Dose)']]\n",
    "m = covidSecondDose[['Day', 'Number of Vaccinations (Second Dose)']]\n",
    "c = covidData[['Day', 'Lab Test' , 'Confirmed case', 'Death Case' ]]\n",
    "\n",
    "\n"
   ]
  },
  {
   "cell_type": "code",
   "execution_count": 4,
   "id": "852a27ac",
   "metadata": {},
   "outputs": [],
   "source": [
    "a = x.merge(m, on='Day', how='inner')\n",
    "\n",
    "\n"
   ]
  },
  {
   "cell_type": "code",
   "execution_count": 5,
   "id": "3276d7cc",
   "metadata": {},
   "outputs": [],
   "source": [
    "z= pd.merge(a, c, on='Day', how='left')"
   ]
  },
  {
   "cell_type": "code",
   "execution_count": 6,
   "id": "bf8109b7",
   "metadata": {},
   "outputs": [
    {
     "data": {
      "text/html": [
       "<div>\n",
       "<style scoped>\n",
       "    .dataframe tbody tr th:only-of-type {\n",
       "        vertical-align: middle;\n",
       "    }\n",
       "\n",
       "    .dataframe tbody tr th {\n",
       "        vertical-align: top;\n",
       "    }\n",
       "\n",
       "    .dataframe thead th {\n",
       "        text-align: right;\n",
       "    }\n",
       "</style>\n",
       "<table border=\"1\" class=\"dataframe\">\n",
       "  <thead>\n",
       "    <tr style=\"text-align: right;\">\n",
       "      <th></th>\n",
       "      <th>Day</th>\n",
       "      <th>Number of Vaccinations (First Dose)</th>\n",
       "      <th>Number of Vaccinations (Second Dose)</th>\n",
       "      <th>Lab Test</th>\n",
       "      <th>Confirmed case</th>\n",
       "      <th>Death Case</th>\n",
       "    </tr>\n",
       "  </thead>\n",
       "  <tbody>\n",
       "    <tr>\n",
       "      <th>0</th>\n",
       "      <td>2021-04-08</td>\n",
       "      <td>14804</td>\n",
       "      <td>81323</td>\n",
       "      <td>33193</td>\n",
       "      <td>6854</td>\n",
       "      <td>74</td>\n",
       "    </tr>\n",
       "    <tr>\n",
       "      <th>1</th>\n",
       "      <td>2021-04-10</td>\n",
       "      <td>19943</td>\n",
       "      <td>136703</td>\n",
       "      <td>26077</td>\n",
       "      <td>5343</td>\n",
       "      <td>77</td>\n",
       "    </tr>\n",
       "    <tr>\n",
       "      <th>2</th>\n",
       "      <td>2021-04-11</td>\n",
       "      <td>23657</td>\n",
       "      <td>165691</td>\n",
       "      <td>29376</td>\n",
       "      <td>5819</td>\n",
       "      <td>78</td>\n",
       "    </tr>\n",
       "    <tr>\n",
       "      <th>3</th>\n",
       "      <td>2021-04-12</td>\n",
       "      <td>22456</td>\n",
       "      <td>138879</td>\n",
       "      <td>34968</td>\n",
       "      <td>7201</td>\n",
       "      <td>83</td>\n",
       "    </tr>\n",
       "    <tr>\n",
       "      <th>4</th>\n",
       "      <td>2021-04-13</td>\n",
       "      <td>26750</td>\n",
       "      <td>210579</td>\n",
       "      <td>32955</td>\n",
       "      <td>6028</td>\n",
       "      <td>69</td>\n",
       "    </tr>\n",
       "    <tr>\n",
       "      <th>...</th>\n",
       "      <td>...</td>\n",
       "      <td>...</td>\n",
       "      <td>...</td>\n",
       "      <td>...</td>\n",
       "      <td>...</td>\n",
       "      <td>...</td>\n",
       "    </tr>\n",
       "    <tr>\n",
       "      <th>183</th>\n",
       "      <td>2021-12-13</td>\n",
       "      <td>325250</td>\n",
       "      <td>355796</td>\n",
       "      <td>22037</td>\n",
       "      <td>385</td>\n",
       "      <td>3</td>\n",
       "    </tr>\n",
       "    <tr>\n",
       "      <th>184</th>\n",
       "      <td>2021-12-14</td>\n",
       "      <td>338574</td>\n",
       "      <td>570312</td>\n",
       "      <td>22870</td>\n",
       "      <td>295</td>\n",
       "      <td>3</td>\n",
       "    </tr>\n",
       "    <tr>\n",
       "      <th>185</th>\n",
       "      <td>2021-12-15</td>\n",
       "      <td>367004</td>\n",
       "      <td>565635</td>\n",
       "      <td>28153</td>\n",
       "      <td>297</td>\n",
       "      <td>4</td>\n",
       "    </tr>\n",
       "    <tr>\n",
       "      <th>186</th>\n",
       "      <td>2021-12-18</td>\n",
       "      <td>363539</td>\n",
       "      <td>927256</td>\n",
       "      <td>13991</td>\n",
       "      <td>122</td>\n",
       "      <td>4</td>\n",
       "    </tr>\n",
       "    <tr>\n",
       "      <th>187</th>\n",
       "      <td>2021-12-19</td>\n",
       "      <td>315552</td>\n",
       "      <td>89049</td>\n",
       "      <td>19332</td>\n",
       "      <td>211</td>\n",
       "      <td>1</td>\n",
       "    </tr>\n",
       "  </tbody>\n",
       "</table>\n",
       "<p>188 rows × 6 columns</p>\n",
       "</div>"
      ],
      "text/plain": [
       "            Day  Number of Vaccinations (First Dose)  \\\n",
       "0    2021-04-08                                14804   \n",
       "1    2021-04-10                                19943   \n",
       "2    2021-04-11                                23657   \n",
       "3    2021-04-12                                22456   \n",
       "4    2021-04-13                                26750   \n",
       "..          ...                                  ...   \n",
       "183  2021-12-13                               325250   \n",
       "184  2021-12-14                               338574   \n",
       "185  2021-12-15                               367004   \n",
       "186  2021-12-18                               363539   \n",
       "187  2021-12-19                               315552   \n",
       "\n",
       "     Number of Vaccinations (Second Dose)  Lab Test  Confirmed case  \\\n",
       "0                                   81323     33193            6854   \n",
       "1                                  136703     26077            5343   \n",
       "2                                  165691     29376            5819   \n",
       "3                                  138879     34968            7201   \n",
       "4                                  210579     32955            6028   \n",
       "..                                    ...       ...             ...   \n",
       "183                                355796     22037             385   \n",
       "184                                570312     22870             295   \n",
       "185                                565635     28153             297   \n",
       "186                                927256     13991             122   \n",
       "187                                 89049     19332             211   \n",
       "\n",
       "     Death Case  \n",
       "0            74  \n",
       "1            77  \n",
       "2            78  \n",
       "3            83  \n",
       "4            69  \n",
       "..          ...  \n",
       "183           3  \n",
       "184           3  \n",
       "185           4  \n",
       "186           4  \n",
       "187           1  \n",
       "\n",
       "[188 rows x 6 columns]"
      ]
     },
     "execution_count": 6,
     "metadata": {},
     "output_type": "execute_result"
    }
   ],
   "source": [
    "z"
   ]
  },
  {
   "cell_type": "code",
   "execution_count": 7,
   "id": "97775679",
   "metadata": {},
   "outputs": [
    {
     "name": "stdout",
     "output_type": "stream",
     "text": [
      "     Day  Number of Vaccinations (First Dose)  \\\n",
      "0      0                                14804   \n",
      "1      1                                19943   \n",
      "2      2                                23657   \n",
      "3      3                                22456   \n",
      "4      4                                26750   \n",
      "..   ...                                  ...   \n",
      "153  153                              1049734   \n",
      "154  154                               985671   \n",
      "155  155                                 2530   \n",
      "156  156                               217057   \n",
      "157  157                               284511   \n",
      "\n",
      "     Number of Vaccinations (Second Dose)  Lab Test  Confirmed case  \\\n",
      "0                                   81323     33193            6854   \n",
      "1                                  136703     26077            5343   \n",
      "2                                  165691     29376            5819   \n",
      "3                                  138879     34968            7201   \n",
      "4                                  210579     32955            6028   \n",
      "..                                    ...       ...             ...   \n",
      "153                                296190     17987             235   \n",
      "154                                274912     19544             237   \n",
      "155                                   742     17231             221   \n",
      "156                                270573     13569             151   \n",
      "157                                338715     19517             223   \n",
      "\n",
      "     Death Case  \n",
      "0            74  \n",
      "1            77  \n",
      "2            78  \n",
      "3            83  \n",
      "4            69  \n",
      "..          ...  \n",
      "153           2  \n",
      "154           1  \n",
      "155           5  \n",
      "156           6  \n",
      "157           4  \n",
      "\n",
      "[158 rows x 6 columns]\n"
     ]
    }
   ],
   "source": [
    "label_encoder = preprocessing.LabelEncoder()\n",
    " \n",
    "z['Day']= label_encoder.fit_transform(z['Day']) \n",
    "print(z.head(158))"
   ]
  },
  {
   "cell_type": "code",
   "execution_count": 8,
   "id": "07314b6b",
   "metadata": {},
   "outputs": [
    {
     "data": {
      "text/plain": [
       "(188, 6)"
      ]
     },
     "execution_count": 8,
     "metadata": {},
     "output_type": "execute_result"
    }
   ],
   "source": [
    "z.shape"
   ]
  },
  {
   "cell_type": "code",
   "execution_count": 9,
   "id": "cf4b0623",
   "metadata": {},
   "outputs": [
    {
     "data": {
      "text/plain": [
       "Index(['Day', 'Number of Vaccinations (First Dose)',\n",
       "       'Number of Vaccinations (Second Dose)', 'Lab Test', 'Confirmed case',\n",
       "       'Death Case'],\n",
       "      dtype='object')"
      ]
     },
     "execution_count": 9,
     "metadata": {},
     "output_type": "execute_result"
    }
   ],
   "source": [
    "z.columns"
   ]
  },
  {
   "cell_type": "code",
   "execution_count": 10,
   "id": "b8999d53",
   "metadata": {},
   "outputs": [],
   "source": [
    "X = z.iloc[:, 0:3]\n",
    "y = z['Death Case']"
   ]
  },
  {
   "cell_type": "code",
   "execution_count": 11,
   "id": "56309817",
   "metadata": {},
   "outputs": [
    {
     "data": {
      "text/html": [
       "<div>\n",
       "<style scoped>\n",
       "    .dataframe tbody tr th:only-of-type {\n",
       "        vertical-align: middle;\n",
       "    }\n",
       "\n",
       "    .dataframe tbody tr th {\n",
       "        vertical-align: top;\n",
       "    }\n",
       "\n",
       "    .dataframe thead th {\n",
       "        text-align: right;\n",
       "    }\n",
       "</style>\n",
       "<table border=\"1\" class=\"dataframe\">\n",
       "  <thead>\n",
       "    <tr style=\"text-align: right;\">\n",
       "      <th></th>\n",
       "      <th>Day</th>\n",
       "      <th>Number of Vaccinations (First Dose)</th>\n",
       "      <th>Number of Vaccinations (Second Dose)</th>\n",
       "    </tr>\n",
       "  </thead>\n",
       "  <tbody>\n",
       "    <tr>\n",
       "      <th>0</th>\n",
       "      <td>0</td>\n",
       "      <td>14804</td>\n",
       "      <td>81323</td>\n",
       "    </tr>\n",
       "    <tr>\n",
       "      <th>1</th>\n",
       "      <td>1</td>\n",
       "      <td>19943</td>\n",
       "      <td>136703</td>\n",
       "    </tr>\n",
       "    <tr>\n",
       "      <th>2</th>\n",
       "      <td>2</td>\n",
       "      <td>23657</td>\n",
       "      <td>165691</td>\n",
       "    </tr>\n",
       "    <tr>\n",
       "      <th>3</th>\n",
       "      <td>3</td>\n",
       "      <td>22456</td>\n",
       "      <td>138879</td>\n",
       "    </tr>\n",
       "    <tr>\n",
       "      <th>4</th>\n",
       "      <td>4</td>\n",
       "      <td>26750</td>\n",
       "      <td>210579</td>\n",
       "    </tr>\n",
       "    <tr>\n",
       "      <th>...</th>\n",
       "      <td>...</td>\n",
       "      <td>...</td>\n",
       "      <td>...</td>\n",
       "    </tr>\n",
       "    <tr>\n",
       "      <th>183</th>\n",
       "      <td>183</td>\n",
       "      <td>325250</td>\n",
       "      <td>355796</td>\n",
       "    </tr>\n",
       "    <tr>\n",
       "      <th>184</th>\n",
       "      <td>184</td>\n",
       "      <td>338574</td>\n",
       "      <td>570312</td>\n",
       "    </tr>\n",
       "    <tr>\n",
       "      <th>185</th>\n",
       "      <td>185</td>\n",
       "      <td>367004</td>\n",
       "      <td>565635</td>\n",
       "    </tr>\n",
       "    <tr>\n",
       "      <th>186</th>\n",
       "      <td>186</td>\n",
       "      <td>363539</td>\n",
       "      <td>927256</td>\n",
       "    </tr>\n",
       "    <tr>\n",
       "      <th>187</th>\n",
       "      <td>187</td>\n",
       "      <td>315552</td>\n",
       "      <td>89049</td>\n",
       "    </tr>\n",
       "  </tbody>\n",
       "</table>\n",
       "<p>188 rows × 3 columns</p>\n",
       "</div>"
      ],
      "text/plain": [
       "     Day  Number of Vaccinations (First Dose)  \\\n",
       "0      0                                14804   \n",
       "1      1                                19943   \n",
       "2      2                                23657   \n",
       "3      3                                22456   \n",
       "4      4                                26750   \n",
       "..   ...                                  ...   \n",
       "183  183                               325250   \n",
       "184  184                               338574   \n",
       "185  185                               367004   \n",
       "186  186                               363539   \n",
       "187  187                               315552   \n",
       "\n",
       "     Number of Vaccinations (Second Dose)  \n",
       "0                                   81323  \n",
       "1                                  136703  \n",
       "2                                  165691  \n",
       "3                                  138879  \n",
       "4                                  210579  \n",
       "..                                    ...  \n",
       "183                                355796  \n",
       "184                                570312  \n",
       "185                                565635  \n",
       "186                                927256  \n",
       "187                                 89049  \n",
       "\n",
       "[188 rows x 3 columns]"
      ]
     },
     "execution_count": 11,
     "metadata": {},
     "output_type": "execute_result"
    }
   ],
   "source": [
    "X"
   ]
  },
  {
   "cell_type": "code",
   "execution_count": 12,
   "id": "666dfd77",
   "metadata": {},
   "outputs": [
    {
     "data": {
      "text/plain": [
       "(188, 3)"
      ]
     },
     "execution_count": 12,
     "metadata": {},
     "output_type": "execute_result"
    }
   ],
   "source": [
    "X.shape\n"
   ]
  },
  {
   "cell_type": "code",
   "execution_count": 13,
   "id": "81ea0605",
   "metadata": {},
   "outputs": [
    {
     "data": {
      "text/plain": [
       "(188,)"
      ]
     },
     "execution_count": 13,
     "metadata": {},
     "output_type": "execute_result"
    }
   ],
   "source": [
    "y.shape"
   ]
  },
  {
   "cell_type": "code",
   "execution_count": 14,
   "id": "f599f958",
   "metadata": {},
   "outputs": [
    {
     "data": {
      "text/html": [
       "<div>\n",
       "<style scoped>\n",
       "    .dataframe tbody tr th:only-of-type {\n",
       "        vertical-align: middle;\n",
       "    }\n",
       "\n",
       "    .dataframe tbody tr th {\n",
       "        vertical-align: top;\n",
       "    }\n",
       "\n",
       "    .dataframe thead th {\n",
       "        text-align: right;\n",
       "    }\n",
       "</style>\n",
       "<table border=\"1\" class=\"dataframe\">\n",
       "  <thead>\n",
       "    <tr style=\"text-align: right;\">\n",
       "      <th></th>\n",
       "      <th>Day</th>\n",
       "      <th>Number of Vaccinations (First Dose)</th>\n",
       "      <th>Number of Vaccinations (Second Dose)</th>\n",
       "    </tr>\n",
       "  </thead>\n",
       "  <tbody>\n",
       "    <tr>\n",
       "      <th>0</th>\n",
       "      <td>0</td>\n",
       "      <td>14804</td>\n",
       "      <td>81323</td>\n",
       "    </tr>\n",
       "    <tr>\n",
       "      <th>1</th>\n",
       "      <td>1</td>\n",
       "      <td>19943</td>\n",
       "      <td>136703</td>\n",
       "    </tr>\n",
       "    <tr>\n",
       "      <th>2</th>\n",
       "      <td>2</td>\n",
       "      <td>23657</td>\n",
       "      <td>165691</td>\n",
       "    </tr>\n",
       "    <tr>\n",
       "      <th>3</th>\n",
       "      <td>3</td>\n",
       "      <td>22456</td>\n",
       "      <td>138879</td>\n",
       "    </tr>\n",
       "    <tr>\n",
       "      <th>4</th>\n",
       "      <td>4</td>\n",
       "      <td>26750</td>\n",
       "      <td>210579</td>\n",
       "    </tr>\n",
       "    <tr>\n",
       "      <th>...</th>\n",
       "      <td>...</td>\n",
       "      <td>...</td>\n",
       "      <td>...</td>\n",
       "    </tr>\n",
       "    <tr>\n",
       "      <th>183</th>\n",
       "      <td>183</td>\n",
       "      <td>325250</td>\n",
       "      <td>355796</td>\n",
       "    </tr>\n",
       "    <tr>\n",
       "      <th>184</th>\n",
       "      <td>184</td>\n",
       "      <td>338574</td>\n",
       "      <td>570312</td>\n",
       "    </tr>\n",
       "    <tr>\n",
       "      <th>185</th>\n",
       "      <td>185</td>\n",
       "      <td>367004</td>\n",
       "      <td>565635</td>\n",
       "    </tr>\n",
       "    <tr>\n",
       "      <th>186</th>\n",
       "      <td>186</td>\n",
       "      <td>363539</td>\n",
       "      <td>927256</td>\n",
       "    </tr>\n",
       "    <tr>\n",
       "      <th>187</th>\n",
       "      <td>187</td>\n",
       "      <td>315552</td>\n",
       "      <td>89049</td>\n",
       "    </tr>\n",
       "  </tbody>\n",
       "</table>\n",
       "<p>188 rows × 3 columns</p>\n",
       "</div>"
      ],
      "text/plain": [
       "     Day  Number of Vaccinations (First Dose)  \\\n",
       "0      0                                14804   \n",
       "1      1                                19943   \n",
       "2      2                                23657   \n",
       "3      3                                22456   \n",
       "4      4                                26750   \n",
       "..   ...                                  ...   \n",
       "183  183                               325250   \n",
       "184  184                               338574   \n",
       "185  185                               367004   \n",
       "186  186                               363539   \n",
       "187  187                               315552   \n",
       "\n",
       "     Number of Vaccinations (Second Dose)  \n",
       "0                                   81323  \n",
       "1                                  136703  \n",
       "2                                  165691  \n",
       "3                                  138879  \n",
       "4                                  210579  \n",
       "..                                    ...  \n",
       "183                                355796  \n",
       "184                                570312  \n",
       "185                                565635  \n",
       "186                                927256  \n",
       "187                                 89049  \n",
       "\n",
       "[188 rows x 3 columns]"
      ]
     },
     "execution_count": 14,
     "metadata": {},
     "output_type": "execute_result"
    }
   ],
   "source": [
    "X"
   ]
  },
  {
   "cell_type": "code",
   "execution_count": 15,
   "id": "09626839",
   "metadata": {},
   "outputs": [],
   "source": [
    "X_train, X_test, y_train, y_test = train_test_split(X, y, test_size=0.2, random_state=100)"
   ]
  },
  {
   "cell_type": "code",
   "execution_count": 16,
   "id": "1c273a21",
   "metadata": {},
   "outputs": [
    {
     "data": {
      "text/plain": [
       "(150, 3)"
      ]
     },
     "execution_count": 16,
     "metadata": {},
     "output_type": "execute_result"
    }
   ],
   "source": [
    "X_train.shape"
   ]
  },
  {
   "cell_type": "code",
   "execution_count": 17,
   "id": "0284b2d9",
   "metadata": {},
   "outputs": [
    {
     "data": {
      "text/plain": [
       "(38, 3)"
      ]
     },
     "execution_count": 17,
     "metadata": {},
     "output_type": "execute_result"
    }
   ],
   "source": [
    "X_test.shape"
   ]
  },
  {
   "cell_type": "code",
   "execution_count": 18,
   "id": "f6451b19",
   "metadata": {},
   "outputs": [
    {
     "data": {
      "text/plain": [
       "array([  4.57,   4.5 ,   6.28,   5.7 , 120.28,  25.21,  96.88,  77.35,\n",
       "        59.9 ,  14.35, 165.58,   9.08,  25.99,   4.62, 223.56,   5.61,\n",
       "         2.48,  67.73,   2.05, 169.63, 232.72, 100.06, 100.51, 106.13,\n",
       "         1.66,  19.22,  36.89,  56.25,  17.24,   4.23, 230.95,  81.51,\n",
       "         2.47,  17.01,   2.72, 224.99, 217.69,  18.1 ])"
      ]
     },
     "execution_count": 18,
     "metadata": {},
     "output_type": "execute_result"
    }
   ],
   "source": [
    "from sklearn.ensemble import RandomForestRegressor\n",
    "rf = RandomForestRegressor()\n",
    "rf.fit(X_train, y_train)\n",
    "y_pred=rf.predict(X_test)\n",
    "y_pred\n"
   ]
  },
  {
   "cell_type": "code",
   "execution_count": 19,
   "id": "d9a6c461",
   "metadata": {},
   "outputs": [
    {
     "data": {
      "text/html": [
       "<div>\n",
       "<style scoped>\n",
       "    .dataframe tbody tr th:only-of-type {\n",
       "        vertical-align: middle;\n",
       "    }\n",
       "\n",
       "    .dataframe tbody tr th {\n",
       "        vertical-align: top;\n",
       "    }\n",
       "\n",
       "    .dataframe thead th {\n",
       "        text-align: right;\n",
       "    }\n",
       "</style>\n",
       "<table border=\"1\" class=\"dataframe\">\n",
       "  <thead>\n",
       "    <tr style=\"text-align: right;\">\n",
       "      <th></th>\n",
       "      <th>Day</th>\n",
       "      <th>Number of Vaccinations (First Dose)</th>\n",
       "      <th>Number of Vaccinations (Second Dose)</th>\n",
       "    </tr>\n",
       "  </thead>\n",
       "  <tbody>\n",
       "    <tr>\n",
       "      <th>156</th>\n",
       "      <td>156</td>\n",
       "      <td>217057</td>\n",
       "      <td>270573</td>\n",
       "    </tr>\n",
       "    <tr>\n",
       "      <th>157</th>\n",
       "      <td>157</td>\n",
       "      <td>284511</td>\n",
       "      <td>338715</td>\n",
       "    </tr>\n",
       "    <tr>\n",
       "      <th>140</th>\n",
       "      <td>140</td>\n",
       "      <td>330868</td>\n",
       "      <td>247274</td>\n",
       "    </tr>\n",
       "    <tr>\n",
       "      <th>145</th>\n",
       "      <td>145</td>\n",
       "      <td>310415</td>\n",
       "      <td>327098</td>\n",
       "    </tr>\n",
       "    <tr>\n",
       "      <th>46</th>\n",
       "      <td>46</td>\n",
       "      <td>4120</td>\n",
       "      <td>703</td>\n",
       "    </tr>\n",
       "    <tr>\n",
       "      <th>112</th>\n",
       "      <td>112</td>\n",
       "      <td>345438</td>\n",
       "      <td>255841</td>\n",
       "    </tr>\n",
       "    <tr>\n",
       "      <th>11</th>\n",
       "      <td>11</td>\n",
       "      <td>16784</td>\n",
       "      <td>151988</td>\n",
       "    </tr>\n",
       "    <tr>\n",
       "      <th>15</th>\n",
       "      <td>15</td>\n",
       "      <td>325</td>\n",
       "      <td>120861</td>\n",
       "    </tr>\n",
       "    <tr>\n",
       "      <th>99</th>\n",
       "      <td>99</td>\n",
       "      <td>226451</td>\n",
       "      <td>2708469</td>\n",
       "    </tr>\n",
       "    <tr>\n",
       "      <th>128</th>\n",
       "      <td>128</td>\n",
       "      <td>320207</td>\n",
       "      <td>163401</td>\n",
       "    </tr>\n",
       "    <tr>\n",
       "      <th>82</th>\n",
       "      <td>82</td>\n",
       "      <td>161491</td>\n",
       "      <td>235916</td>\n",
       "    </tr>\n",
       "    <tr>\n",
       "      <th>136</th>\n",
       "      <td>136</td>\n",
       "      <td>392214</td>\n",
       "      <td>362317</td>\n",
       "    </tr>\n",
       "    <tr>\n",
       "      <th>116</th>\n",
       "      <td>116</td>\n",
       "      <td>302248</td>\n",
       "      <td>187406</td>\n",
       "    </tr>\n",
       "    <tr>\n",
       "      <th>162</th>\n",
       "      <td>162</td>\n",
       "      <td>715369</td>\n",
       "      <td>268632</td>\n",
       "    </tr>\n",
       "    <tr>\n",
       "      <th>75</th>\n",
       "      <td>75</td>\n",
       "      <td>596224</td>\n",
       "      <td>98476</td>\n",
       "    </tr>\n",
       "    <tr>\n",
       "      <th>147</th>\n",
       "      <td>147</td>\n",
       "      <td>303942</td>\n",
       "      <td>310747</td>\n",
       "    </tr>\n",
       "    <tr>\n",
       "      <th>151</th>\n",
       "      <td>151</td>\n",
       "      <td>1129320</td>\n",
       "      <td>339877</td>\n",
       "    </tr>\n",
       "    <tr>\n",
       "      <th>97</th>\n",
       "      <td>97</td>\n",
       "      <td>259401</td>\n",
       "      <td>207873</td>\n",
       "    </tr>\n",
       "    <tr>\n",
       "      <th>168</th>\n",
       "      <td>168</td>\n",
       "      <td>955657</td>\n",
       "      <td>216578</td>\n",
       "    </tr>\n",
       "    <tr>\n",
       "      <th>81</th>\n",
       "      <td>81</td>\n",
       "      <td>174880</td>\n",
       "      <td>265935</td>\n",
       "    </tr>\n",
       "    <tr>\n",
       "      <th>69</th>\n",
       "      <td>69</td>\n",
       "      <td>302069</td>\n",
       "      <td>12281</td>\n",
       "    </tr>\n",
       "    <tr>\n",
       "      <th>41</th>\n",
       "      <td>41</td>\n",
       "      <td>6784</td>\n",
       "      <td>2116</td>\n",
       "    </tr>\n",
       "    <tr>\n",
       "      <th>7</th>\n",
       "      <td>7</td>\n",
       "      <td>15048</td>\n",
       "      <td>214842</td>\n",
       "    </tr>\n",
       "    <tr>\n",
       "      <th>90</th>\n",
       "      <td>90</td>\n",
       "      <td>285908</td>\n",
       "      <td>228253</td>\n",
       "    </tr>\n",
       "    <tr>\n",
       "      <th>152</th>\n",
       "      <td>152</td>\n",
       "      <td>2593836</td>\n",
       "      <td>341033</td>\n",
       "    </tr>\n",
       "    <tr>\n",
       "      <th>123</th>\n",
       "      <td>123</td>\n",
       "      <td>446088</td>\n",
       "      <td>153811</td>\n",
       "    </tr>\n",
       "    <tr>\n",
       "      <th>110</th>\n",
       "      <td>110</td>\n",
       "      <td>332808</td>\n",
       "      <td>205528</td>\n",
       "    </tr>\n",
       "    <tr>\n",
       "      <th>32</th>\n",
       "      <td>32</td>\n",
       "      <td>903</td>\n",
       "      <td>19459</td>\n",
       "    </tr>\n",
       "    <tr>\n",
       "      <th>125</th>\n",
       "      <td>125</td>\n",
       "      <td>435305</td>\n",
       "      <td>173003</td>\n",
       "    </tr>\n",
       "    <tr>\n",
       "      <th>160</th>\n",
       "      <td>160</td>\n",
       "      <td>470506</td>\n",
       "      <td>260185</td>\n",
       "    </tr>\n",
       "    <tr>\n",
       "      <th>77</th>\n",
       "      <td>77</td>\n",
       "      <td>318437</td>\n",
       "      <td>169132</td>\n",
       "    </tr>\n",
       "    <tr>\n",
       "      <th>1</th>\n",
       "      <td>1</td>\n",
       "      <td>19943</td>\n",
       "      <td>136703</td>\n",
       "    </tr>\n",
       "    <tr>\n",
       "      <th>172</th>\n",
       "      <td>172</td>\n",
       "      <td>998927</td>\n",
       "      <td>305262</td>\n",
       "    </tr>\n",
       "    <tr>\n",
       "      <th>126</th>\n",
       "      <td>126</td>\n",
       "      <td>349528</td>\n",
       "      <td>145180</td>\n",
       "    </tr>\n",
       "    <tr>\n",
       "      <th>150</th>\n",
       "      <td>150</td>\n",
       "      <td>916486</td>\n",
       "      <td>417550</td>\n",
       "    </tr>\n",
       "    <tr>\n",
       "      <th>74</th>\n",
       "      <td>74</td>\n",
       "      <td>3070268</td>\n",
       "      <td>53798</td>\n",
       "    </tr>\n",
       "    <tr>\n",
       "      <th>59</th>\n",
       "      <td>59</td>\n",
       "      <td>182016</td>\n",
       "      <td>708</td>\n",
       "    </tr>\n",
       "    <tr>\n",
       "      <th>174</th>\n",
       "      <td>174</td>\n",
       "      <td>1899</td>\n",
       "      <td>1899</td>\n",
       "    </tr>\n",
       "  </tbody>\n",
       "</table>\n",
       "</div>"
      ],
      "text/plain": [
       "     Day  Number of Vaccinations (First Dose)  \\\n",
       "156  156                               217057   \n",
       "157  157                               284511   \n",
       "140  140                               330868   \n",
       "145  145                               310415   \n",
       "46    46                                 4120   \n",
       "112  112                               345438   \n",
       "11    11                                16784   \n",
       "15    15                                  325   \n",
       "99    99                               226451   \n",
       "128  128                               320207   \n",
       "82    82                               161491   \n",
       "136  136                               392214   \n",
       "116  116                               302248   \n",
       "162  162                               715369   \n",
       "75    75                               596224   \n",
       "147  147                               303942   \n",
       "151  151                              1129320   \n",
       "97    97                               259401   \n",
       "168  168                               955657   \n",
       "81    81                               174880   \n",
       "69    69                               302069   \n",
       "41    41                                 6784   \n",
       "7      7                                15048   \n",
       "90    90                               285908   \n",
       "152  152                              2593836   \n",
       "123  123                               446088   \n",
       "110  110                               332808   \n",
       "32    32                                  903   \n",
       "125  125                               435305   \n",
       "160  160                               470506   \n",
       "77    77                               318437   \n",
       "1      1                                19943   \n",
       "172  172                               998927   \n",
       "126  126                               349528   \n",
       "150  150                               916486   \n",
       "74    74                              3070268   \n",
       "59    59                               182016   \n",
       "174  174                                 1899   \n",
       "\n",
       "     Number of Vaccinations (Second Dose)  \n",
       "156                                270573  \n",
       "157                                338715  \n",
       "140                                247274  \n",
       "145                                327098  \n",
       "46                                    703  \n",
       "112                                255841  \n",
       "11                                 151988  \n",
       "15                                 120861  \n",
       "99                                2708469  \n",
       "128                                163401  \n",
       "82                                 235916  \n",
       "136                                362317  \n",
       "116                                187406  \n",
       "162                                268632  \n",
       "75                                  98476  \n",
       "147                                310747  \n",
       "151                                339877  \n",
       "97                                 207873  \n",
       "168                                216578  \n",
       "81                                 265935  \n",
       "69                                  12281  \n",
       "41                                   2116  \n",
       "7                                  214842  \n",
       "90                                 228253  \n",
       "152                                341033  \n",
       "123                                153811  \n",
       "110                                205528  \n",
       "32                                  19459  \n",
       "125                                173003  \n",
       "160                                260185  \n",
       "77                                 169132  \n",
       "1                                  136703  \n",
       "172                                305262  \n",
       "126                                145180  \n",
       "150                                417550  \n",
       "74                                  53798  \n",
       "59                                    708  \n",
       "174                                  1899  "
      ]
     },
     "execution_count": 19,
     "metadata": {},
     "output_type": "execute_result"
    }
   ],
   "source": [
    "X_test"
   ]
  },
  {
   "cell_type": "code",
   "execution_count": 20,
   "id": "628a1bf1",
   "metadata": {},
   "outputs": [
    {
     "data": {
      "text/plain": [
       "array([56.91])"
      ]
     },
     "execution_count": 20,
     "metadata": {},
     "output_type": "execute_result"
    }
   ],
   "source": [
    " rf.predict([[99, 161491, 120861]])"
   ]
  },
  {
   "cell_type": "code",
   "execution_count": 21,
   "id": "ec305f1c",
   "metadata": {},
   "outputs": [
    {
     "name": "stderr",
     "output_type": "stream",
     "text": [
      "<ipython-input-21-3762dcc6e789>:1: SettingWithCopyWarning: \n",
      "A value is trying to be set on a copy of a slice from a DataFrame.\n",
      "Try using .loc[row_indexer,col_indexer] = value instead\n",
      "\n",
      "See the caveats in the documentation: https://pandas.pydata.org/pandas-docs/stable/user_guide/indexing.html#returning-a-view-versus-a-copy\n",
      "  X_test['Number of Vaccinations (First Dose)'] = sorted(X_test['Number of Vaccinations (First Dose)'])\n",
      "<ipython-input-21-3762dcc6e789>:2: SettingWithCopyWarning: \n",
      "A value is trying to be set on a copy of a slice from a DataFrame.\n",
      "Try using .loc[row_indexer,col_indexer] = value instead\n",
      "\n",
      "See the caveats in the documentation: https://pandas.pydata.org/pandas-docs/stable/user_guide/indexing.html#returning-a-view-versus-a-copy\n",
      "  X_test['Number of Vaccinations (Second Dose)'] = sorted(X_test['Number of Vaccinations (Second Dose)'])\n"
     ]
    }
   ],
   "source": [
    "X_test['Number of Vaccinations (First Dose)'] = sorted(X_test['Number of Vaccinations (First Dose)'])\n",
    "X_test['Number of Vaccinations (Second Dose)'] = sorted(X_test['Number of Vaccinations (Second Dose)'])\n"
   ]
  },
  {
   "cell_type": "code",
   "execution_count": 22,
   "id": "bc948637",
   "metadata": {},
   "outputs": [
    {
     "data": {
      "text/plain": [
       "<matplotlib.collections.PathCollection at 0x1af47fbc970>"
      ]
     },
     "execution_count": 22,
     "metadata": {},
     "output_type": "execute_result"
    },
    {
     "data": {
      "image/png": "[encoded data removed]",
      "text/plain": [
       "<Figure size 432x288 with 1 Axes>"
      ]
     },
     "metadata": {
      "needs_background": "light"
     },
     "output_type": "display_data"
    }
   ],
   "source": [
    "plt.scatter(X_test['Day'], y_pred, color=\"r\")\n",
    "plt.scatter(X_test['Day'], y_test, color=\"g\")"
   ]
  },
  {
   "cell_type": "code",
   "execution_count": 23,
   "id": "81a6c450",
   "metadata": {},
   "outputs": [
    {
     "data": {
      "text/plain": [
       "<matplotlib.collections.PathCollection at 0x1af48060c40>"
      ]
     },
     "execution_count": 23,
     "metadata": {},
     "output_type": "execute_result"
    },
    {
     "data": {
      "image/png": "[encoded data removed]",
      "text/plain": [
       "<Figure size 432x288 with 1 Axes>"
      ]
     },
     "metadata": {
      "needs_background": "light"
     },
     "output_type": "display_data"
    }
   ],
   "source": [
    "plt.scatter(X_test['Number of Vaccinations (First Dose)'], y_pred, color=\"g\")\n"
   ]
  },
  {
   "cell_type": "code",
   "execution_count": 24,
   "id": "e830d301",
   "metadata": {},
   "outputs": [
    {
     "data": {
      "text/plain": [
       "161.11755789473685"
      ]
     },
     "execution_count": 24,
     "metadata": {},
     "output_type": "execute_result"
    }
   ],
   "source": [
    "from sklearn import metrics\n",
    "\n",
    "metrics.mean_squared_error(y_test, y_pred)"
   ]
  },
  {
   "cell_type": "code",
   "execution_count": 25,
   "id": "139552a9",
   "metadata": {},
   "outputs": [
    {
     "data": {
      "text/plain": [
       "12.693209125147858"
      ]
     },
     "execution_count": 25,
     "metadata": {},
     "output_type": "execute_result"
    }
   ],
   "source": [
    "np.sqrt(metrics.mean_squared_error(y_test, y_pred))"
   ]
  },
  {
   "cell_type": "code",
   "execution_count": null,
   "id": "244f2bb6",
   "metadata": {},
   "outputs": [],
   "source": []
  }
 ],
 "metadata": {
  "kernelspec": {
   "display_name": "Python 3",
   "language": "python",
   "name": "python3"
  },
  "language_info": {
   "codemirror_mode": {
    "name": "ipython",
    "version": 3
   },
   "file_extension": ".py",
   "mimetype": "text/x-python",
   "name": "python",
   "nbconvert_exporter": "python",
   "pygments_lexer": "ipython3",
   "version": "3.8.8"
  }
 },
 "nbformat": 4,
 "nbformat_minor": 5
}
